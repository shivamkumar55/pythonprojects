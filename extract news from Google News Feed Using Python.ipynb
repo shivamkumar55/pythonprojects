{
 "cells": [
  {
   "cell_type": "code",
   "execution_count": 1,
   "metadata": {},
   "outputs": [
    {
     "name": "stdout",
     "output_type": "stream",
     "text": [
      "Collecting gnewsclient\n",
      "  Downloading https://files.pythonhosted.org/packages/e6/44/01147dfc281d225b203387b6d7895d20247140929dda7b1d2e36fb2b3d58/gnewsclient-1.12-py3-none-any.whl\n",
      "Requirement already satisfied: requests in c:\\users\\laptop\\anaconda3\\lib\\site-packages (from gnewsclient) (2.28.2)\n",
      "Collecting fuzzywuzzy (from gnewsclient)\n",
      "  Downloading https://files.pythonhosted.org/packages/43/ff/74f23998ad2f93b945c0309f825be92e04e0348e062026998b5eefef4c33/fuzzywuzzy-0.18.0-py2.py3-none-any.whl\n",
      "Collecting feedparser (from gnewsclient)\n",
      "  Downloading https://files.pythonhosted.org/packages/92/1e/741fd94cf2855d251712868f2183cb6485a28daaa3947e1a7046dc036aca/feedparser-6.0.10-py3-none-any.whl (81kB)\n",
      "Requirement already satisfied: urllib3<1.27,>=1.21.1 in c:\\users\\laptop\\anaconda3\\lib\\site-packages (from requests->gnewsclient) (1.26.14)\n",
      "Requirement already satisfied: charset-normalizer<4,>=2 in c:\\users\\laptop\\anaconda3\\lib\\site-packages (from requests->gnewsclient) (3.0.1)\n",
      "Requirement already satisfied: idna<4,>=2.5 in c:\\users\\laptop\\anaconda3\\lib\\site-packages (from requests->gnewsclient) (2.8)\n",
      "Requirement already satisfied: certifi>=2017.4.17 in c:\\users\\laptop\\anaconda3\\lib\\site-packages (from requests->gnewsclient) (2019.6.16)\n",
      "Collecting sgmllib3k (from feedparser->gnewsclient)\n",
      "  Downloading https://files.pythonhosted.org/packages/9e/bd/3704a8c3e0942d711c1299ebf7b9091930adae6675d7c8f476a7ce48653c/sgmllib3k-1.0.0.tar.gz\n",
      "Building wheels for collected packages: sgmllib3k\n",
      "  Building wheel for sgmllib3k (setup.py): started\n",
      "  Building wheel for sgmllib3k (setup.py): finished with status 'done'\n",
      "  Stored in directory: C:\\Users\\laptop\\AppData\\Local\\pip\\Cache\\wheels\\f1\\80\\5a\\444ba08a550cdd241bd9baf8bae44be750efe370adb944506a\n",
      "Successfully built sgmllib3k\n",
      "Installing collected packages: fuzzywuzzy, sgmllib3k, feedparser, gnewsclient\n",
      "Successfully installed feedparser-6.0.10 fuzzywuzzy-0.18.0 gnewsclient-1.12 sgmllib3k-1.0.0\n",
      "Note: you may need to restart the kernel to use updated packages.\n"
     ]
    }
   ],
   "source": [
    "pip install gnewsclient\n"
   ]
  },
  {
   "cell_type": "code",
   "execution_count": 4,
   "metadata": {},
   "outputs": [
    {
     "name": "stdout",
     "output_type": "stream",
     "text": [
      "Location: \n",
      " ['Australia', 'Botswana', 'Canada ', 'Ethiopia', 'Ghana', 'India ', 'Indonesia', 'Ireland', 'Israel ', 'Kenya', 'Latvia', 'Malaysia', 'Namibia', 'New Zealand', 'Nigeria', 'Pakistan', 'Philippines', 'Singapore', 'South Africa', 'Tanzania', 'Uganda', 'United Kingdom', 'United States', 'Zimbabwe', 'Czech Republic', 'Germany', 'Austria', 'Switzerland', 'Argentina', 'Chile', 'Colombia', 'Cuba', 'Mexico', 'Peru', 'Venezuela', 'Belgium ', 'France', 'Morocco', 'Senegal', 'Italy', 'Lithuania', 'Hungary', 'Netherlands', 'Norway', 'Poland', 'Brazil', 'Portugal', 'Romania', 'Slovakia', 'Slovenia', 'Sweden', 'Vietnam', 'Turkey', 'Greece', 'Bulgaria', 'Russia', 'Ukraine ', 'Serbia', 'United Arab Emirates', 'Saudi Arabia', 'Lebanon', 'Egypt', 'Bangladesh', 'Thailand', 'China', 'Taiwan', 'Hong Kong', 'Japan', 'Republic of Korea']\n",
      "\n",
      "Language \n",
      " ['english', 'indonesian', 'czech', 'german', 'spanish', 'french', 'italian', 'latvian', 'lithuanian', 'hungarian', 'dutch', 'norwegian', 'polish', 'portuguese brasil', 'portuguese portugal', 'romanian', 'slovak', 'slovenian', 'swedish', 'vietnamese', 'turkish', 'greek', 'bulgarian', 'russian', 'serbian', 'ukrainian', 'hebrew', 'arabic', 'marathi', 'hindi', 'bengali', 'tamil', 'telugu', 'malyalam', 'thai', 'chinese simplified', 'chinese traditional', 'japanese', 'korean']\n",
      "\n",
      "Topic \n",
      " ['Top Stories', 'World', 'Nation', 'Business', 'Technology', 'Entertainment', 'Sports', 'Science', 'Health']\n"
     ]
    }
   ],
   "source": [
    "import gnewsclient\n",
    "from gnewsclient import gnewsclient\n",
    "\n",
    "client = gnewsclient.NewsClient(language='hindi',\n",
    "\t\t\t\t\t\t\t\tlocation='india',\n",
    "\t\t\t\t\t\t\t\ttopic='Business',\n",
    "\t\t\t\t\t\t\t\tmax_results=5)\n",
    "\n",
    "# prints location\n",
    "print(\"Location: \\n\",client.locations)\n",
    "print()\n",
    "\n",
    "# prints languages\n",
    "print(\"Language \\n\",client.languages)\n",
    "print()\n",
    "\n",
    "# prints topics\n",
    "print(\"Topic \\n\",client.topics)\n"
   ]
  },
  {
   "cell_type": "code",
   "execution_count": 3,
   "metadata": {},
   "outputs": [
    {
     "name": "stdout",
     "output_type": "stream",
     "text": [
      "Collecting python-Levenshtein\n",
      "  Downloading https://files.pythonhosted.org/packages/c9/bd/fef1536c7ea8d22305c6d54fecf4e7abfc5b4b55782ff9193cdcea4ff8b9/python_Levenshtein-0.20.9-py3-none-any.whl\n",
      "Collecting Levenshtein==0.20.9 (from python-Levenshtein)\n",
      "  Downloading https://files.pythonhosted.org/packages/0e/60/3a8e018e3775b5fba0201fe92c3a415c8c0dc39ee07f038309ebfdc5d67b/Levenshtein-0.20.9-cp37-cp37m-win_amd64.whl (101kB)\n",
      "Collecting rapidfuzz<3.0.0,>=2.3.0 (from Levenshtein==0.20.9->python-Levenshtein)\n",
      "  Downloading https://files.pythonhosted.org/packages/d1/a5/3550e09681b9f1c898fcf31ee0e8acd33eecf3133ddfa82f477107f6f673/rapidfuzz-2.13.7-cp37-cp37m-win_amd64.whl (1.0MB)\n",
      "Installing collected packages: rapidfuzz, Levenshtein, python-Levenshtein\n",
      "Successfully installed Levenshtein-0.20.9 python-Levenshtein-0.20.9 rapidfuzz-2.13.7\n",
      "Note: you may need to restart the kernel to use updated packages.\n"
     ]
    }
   ],
   "source": [
    "pip install python-Levenshtein\n"
   ]
  },
  {
   "cell_type": "code",
   "execution_count": 5,
   "metadata": {},
   "outputs": [
    {
     "name": "stdout",
     "output_type": "stream",
     "text": [
      "Title :  RCB vs MI, WPL 2023: Amelia Kerr stars as Mumbai Indians return to winning ways; Royal Challengers Bangal - Indiatimes.com\n",
      "Link :  https://news.google.com/rss/articles/CBMiyQFodHRwczovL20udGltZXNvZmluZGlhLmNvbS9zcG9ydHMvY3JpY2tldC93cGwvcmNiLXZzLW1pLXdwbC0yMDIzLWFtZWxpYS1rZXJyLXN0YXJzLWFzLW11bWJhaS1pbmRpYW5zLXJldHVybi10by13aW5uaW5nLXdheXMtcm95YWwtY2hhbGxlbmdlcnMtYmFuZ2Fsb3JlLWVuZC1jYW1wYWlnbi13aXRoLWRlZmVhdC9hcnRpY2xlc2hvdy85ODg3MDM1OS5jbXPSAQA?oc=5\n",
      "\n",
      "Title :  Dravid: India have 'narrowed it down to 17-18 players' for ODI World Cup - ESPNcricinfo\n",
      "Link :  https://news.google.com/rss/articles/CBMiemh0dHBzOi8vd3d3LmVzcG5jcmljaW5mby5jb20vc3RvcnkvcmFodWwtZHJhdmlkLWluZGlhLWhhdmUtbmFycm93ZWQtaXQtZG93bi10by0xNy0xOC1wbGF5ZXJzLWZvci10aGUtb2RpLXdvcmxkLWN1cC0xMzY0Njkx0gGHAWh0dHBzOi8vd3d3LmVzcG5jcmljaW5mby5jb20vc3RvcnkvcmFodWwtZHJhdmlkLWluZGlhLWhhdmUtbmFycm93ZWQtaXQtZG93bi10by0xNy0xOC1wbGF5ZXJzLWZvci10aGUtb2RpLXdvcmxkLWN1cC0xMzY0NjkxP3BsYXRmb3JtPWFtcA?oc=5\n",
      "\n",
      "Title :  'I was like 'how can Pujara not be in frame?' It's the worst call...': Kohli - Hindustan Times\n",
      "Link :  https://news.google.com/rss/articles/CBMiswFodHRwczovL3d3dy5oaW5kdXN0YW50aW1lcy5jb20vY3JpY2tldC9pLXdhcy1saWtlLWhvdy1jYW4tY2hldGVzaHdhci1wdWphcmEtbm90LWJlLXNlZW4taW4tdGhlLWZyYW1lLWl0LXMtdGhlLXdvcnN0LWNhbGwtdmlyYXQta29obGktcy1jb250cm92ZXJzaWFsLWFkbWlzc2lvbi0xMDE2NzkzOTk0MjAyMzMuaHRtbNIBtwFodHRwczovL3d3dy5oaW5kdXN0YW50aW1lcy5jb20vY3JpY2tldC9pLXdhcy1saWtlLWhvdy1jYW4tY2hldGVzaHdhci1wdWphcmEtbm90LWJlLXNlZW4taW4tdGhlLWZyYW1lLWl0LXMtdGhlLXdvcnN0LWNhbGwtdmlyYXQta29obGktcy1jb250cm92ZXJzaWFsLWFkbWlzc2lvbi0xMDE2NzkzOTk0MjAyMzMtYW1wLmh0bWw?oc=5\n",
      "\n"
     ]
    }
   ],
   "source": [
    "from gnewsclient import gnewsclient\n",
    "\n",
    "client = gnewsclient.NewsClient(language='english',\n",
    "\t\t\t\t\t\t\t\tlocation='india',\n",
    "\t\t\t\t\t\t\t\ttopic='sports',\n",
    "\t\t\t\t\t\t\t\tmax_results=3)\n",
    "\n",
    "news_list = client.get_news()\n",
    "\n",
    "for item in news_list:\n",
    "\tprint(\"Title : \", item['title'])\n",
    "\tprint(\"Link : \", item['link'])\n",
    "\tprint(\"\")\n"
   ]
  },
  {
   "cell_type": "code",
   "execution_count": null,
   "metadata": {},
   "outputs": [],
   "source": [
    "# import modules\n",
    "from tkinter import *\n",
    "from gnewsclient import gnewsclient\n",
    "\n",
    "# defined functions\n",
    "def news():\n",
    "\tclient = gnewsclient.NewsClient(\n",
    "\t\tlanguage=lang.get(), location=loc.get(), topic=top.get(), max_results=3)\n",
    "\tnews_list = client.get_news()\n",
    "\tresult_title.set(news_list[0][\"title\"] + \"\\n\" +\n",
    "\t\t\t\t\tnews_list[1][\"title\"] + \"\\n\" + news_list[2][\"title\"])\n",
    "\n",
    "\n",
    "# tkinter object\n",
    "master = Tk()\n",
    "master.title(\"NEWS\")\n",
    "\n",
    "# background set to grey\n",
    "master.configure(bg='light grey')\n",
    "\n",
    "# Variable Classes in tkinter\n",
    "result_title = StringVar()\n",
    "result_link = StringVar()\n",
    "\n",
    "# Creating label for each information\n",
    "# name using widget Label\n",
    "Label(master, text=\"Choose language :\", bg=\"light grey\").grid(row=0, sticky=W)\n",
    "Label(master, text=\"Choose Location :\", bg=\"light grey\").grid(row=1, sticky=W)\n",
    "Label(master, text=\"Choose Topic :\", bg=\"light grey\").grid(row=2, sticky=W)\n",
    "\n",
    "\n",
    "lang = Entry(master)\n",
    "lang.grid(row=0, column=1)\n",
    "\n",
    "loc = Entry(master)\n",
    "loc.grid(row=1, column=1)\n",
    "\n",
    "top = Entry(master)\n",
    "top.grid(row=2, column=1)\n",
    "\n",
    "\n",
    "# Creating label for class variable\n",
    "# name using widget Entry\n",
    "Label(master, text=\"\", textvariable=result_title,\n",
    "\tbg=\"light grey\").grid(row=3, column=1, sticky=W)\n",
    "\n",
    "# creating a button using the widget\n",
    "# Button to call the submit function\n",
    "Button(master, text=\"SHOW\", command=news, bg=\"white\").grid(row=1, column=3)\n",
    "\n",
    "\n",
    "mainloop()\n"
   ]
  },
  {
   "cell_type": "code",
   "execution_count": null,
   "metadata": {},
   "outputs": [],
   "source": []
  },
  {
   "cell_type": "code",
   "execution_count": null,
   "metadata": {},
   "outputs": [],
   "source": []
  },
  {
   "cell_type": "code",
   "execution_count": null,
   "metadata": {},
   "outputs": [],
   "source": []
  },
  {
   "cell_type": "code",
   "execution_count": null,
   "metadata": {},
   "outputs": [],
   "source": []
  },
  {
   "cell_type": "code",
   "execution_count": null,
   "metadata": {},
   "outputs": [],
   "source": []
  },
  {
   "cell_type": "code",
   "execution_count": null,
   "metadata": {},
   "outputs": [],
   "source": []
  },
  {
   "cell_type": "code",
   "execution_count": null,
   "metadata": {},
   "outputs": [],
   "source": []
  },
  {
   "cell_type": "code",
   "execution_count": null,
   "metadata": {},
   "outputs": [],
   "source": []
  },
  {
   "cell_type": "code",
   "execution_count": null,
   "metadata": {},
   "outputs": [],
   "source": []
  },
  {
   "cell_type": "code",
   "execution_count": null,
   "metadata": {},
   "outputs": [],
   "source": []
  },
  {
   "cell_type": "code",
   "execution_count": null,
   "metadata": {},
   "outputs": [],
   "source": []
  },
  {
   "cell_type": "code",
   "execution_count": null,
   "metadata": {},
   "outputs": [],
   "source": []
  },
  {
   "cell_type": "code",
   "execution_count": null,
   "metadata": {},
   "outputs": [],
   "source": []
  },
  {
   "cell_type": "code",
   "execution_count": null,
   "metadata": {},
   "outputs": [],
   "source": []
  },
  {
   "cell_type": "code",
   "execution_count": null,
   "metadata": {},
   "outputs": [],
   "source": []
  }
 ],
 "metadata": {
  "kernelspec": {
   "display_name": "Python 3 (ipykernel)",
   "language": "python",
   "name": "python3"
  },
  "language_info": {
   "codemirror_mode": {
    "name": "ipython",
    "version": 3
   },
   "file_extension": ".py",
   "mimetype": "text/x-python",
   "name": "python",
   "nbconvert_exporter": "python",
   "pygments_lexer": "ipython3",
   "version": "3.11.4"
  }
 },
 "nbformat": 4,
 "nbformat_minor": 2
}
